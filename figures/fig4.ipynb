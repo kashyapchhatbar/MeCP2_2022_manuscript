{
 "cells": [
  {
   "cell_type": "markdown",
   "id": "ecaa3873-ddb6-401a-b492-296b2ed96f5a",
   "metadata": {
    "tags": []
   },
   "source": [
    "# Fig 4A"
   ]
  },
  {
   "cell_type": "code",
   "execution_count": 1,
   "id": "bbcd2f7e-beae-40f8-b913-195ee529a450",
   "metadata": {},
   "outputs": [
    {
     "data": {
      "text/html": [
       "\n",
       "        <iframe\n",
       "            width=\"450\"\n",
       "            height=\"160\"\n",
       "            src=\"../rnaseq/plots/hypothalamus.pdf\"\n",
       "            frameborder=\"0\"\n",
       "            allowfullscreen\n",
       "            \n",
       "        ></iframe>\n",
       "        "
      ],
      "text/plain": [
       "<IPython.lib.display.IFrame at 0x7fd7bb626fe0>"
      ]
     },
     "execution_count": 1,
     "metadata": {},
     "output_type": "execute_result"
    }
   ],
   "source": [
    "from IPython.display import IFrame\n",
    "IFrame(\"../rnaseq/plots/hypothalamus.pdf\", width=450, height=160)"
   ]
  },
  {
   "cell_type": "markdown",
   "id": "5a50bd04-68e1-45ae-9ff1-d206cccdbede",
   "metadata": {},
   "source": [
    "# Fig 4B"
   ]
  },
  {
   "cell_type": "code",
   "execution_count": 4,
   "id": "f8484ad5-a7ac-47d8-90b0-18df529e3e3c",
   "metadata": {},
   "outputs": [
    {
     "data": {
      "text/html": [
       "\n",
       "        <iframe\n",
       "            width=\"450\"\n",
       "            height=\"160\"\n",
       "            src=\"../rnaseq/plots/forebrain.pdf\"\n",
       "            frameborder=\"0\"\n",
       "            allowfullscreen\n",
       "            \n",
       "        ></iframe>\n",
       "        "
      ],
      "text/plain": [
       "<IPython.lib.display.IFrame at 0x7fd7bb6246a0>"
      ]
     },
     "execution_count": 4,
     "metadata": {},
     "output_type": "execute_result"
    }
   ],
   "source": [
    "IFrame(\"../rnaseq/plots/forebrain.pdf\", width=450, height=160)"
   ]
  },
  {
   "cell_type": "markdown",
   "id": "9e981ec2-7f4e-4c50-9ed7-6fa149db836e",
   "metadata": {
    "tags": []
   },
   "source": [
    "# Fig 4C"
   ]
  },
  {
   "cell_type": "code",
   "execution_count": 3,
   "id": "6c261b89-eda8-4b47-878d-dab7ad7c2230",
   "metadata": {},
   "outputs": [
    {
     "data": {
      "text/html": [
       "\n",
       "        <iframe\n",
       "            width=\"450\"\n",
       "            height=\"160\"\n",
       "            src=\"../rnaseq/plots/cortex.pdf\"\n",
       "            frameborder=\"0\"\n",
       "            allowfullscreen\n",
       "            \n",
       "        ></iframe>\n",
       "        "
      ],
      "text/plain": [
       "<IPython.lib.display.IFrame at 0x7fd7bb624430>"
      ]
     },
     "execution_count": 3,
     "metadata": {},
     "output_type": "execute_result"
    }
   ],
   "source": [
    "IFrame(\"../rnaseq/plots/cortex.pdf\", width=450, height=160)"
   ]
  }
 ],
 "metadata": {
  "kernelspec": {
   "display_name": "Python 3 (ipykernel)",
   "language": "python",
   "name": "python3"
  },
  "language_info": {
   "codemirror_mode": {
    "name": "ipython",
    "version": 3
   },
   "file_extension": ".py",
   "mimetype": "text/x-python",
   "name": "python",
   "nbconvert_exporter": "python",
   "pygments_lexer": "ipython3",
   "version": "3.10.5"
  }
 },
 "nbformat": 4,
 "nbformat_minor": 5
}
