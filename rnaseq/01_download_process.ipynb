{
 "cells": [
  {
   "cell_type": "markdown",
   "id": "1b634985-c6ed-4ce4-a1fc-6ace3a1661dd",
   "metadata": {},
   "source": [
    "# 0 Prerequisities\n",
    "\n",
    "## 0.1 Download annotation and indexes\n",
    "\n",
    "```bash\n",
    "$ wget https://github.com/pachterlab/kallisto-transcriptome-indices/releases/download/ensembl-96/mus_musculus.tar.gz\n",
    "```\n",
    "\n",
    "Extract the archive and use the prebuilt index for alignment-free quantification. Additionally, get the information about gene_biotype to use later\n",
    "\n",
    "## 0.2 Software requirements\n",
    "\n",
    "In order to execute the commands below, software listed below needs to be installed and set up properly.\n",
    "- [python 3](https://www.python.org/)\n",
    "- [snakemake](https://snakemake.readthedocs.io/en/stable/)\n",
    "- [kallisto](https://pachterlab.github.io/kallisto/download)\n",
    "- [pandas](https://pandas.pydata.org/)\n",
    "- [tximport](https://bioconductor.org/packages/release/bioc/html/tximport.html)\n",
    "- [DESeq2](https://bioconductor.org/packages/release/bioc/html/DESeq2.html)"
   ]
  },
  {
   "cell_type": "code",
   "execution_count": 1,
   "id": "699a5966-49c4-4cc9-beb1-9ee2e4f46500",
   "metadata": {},
   "outputs": [
    {
     "name": "stderr",
     "output_type": "stream",
     "text": [
      "/tmp/ipykernel_37269/337061980.py:2: DtypeWarning: Columns (0) have mixed types. Specify dtype option on import or set low_memory=False.\n",
      "  gtf = pd.read_csv(\"annotation/mus_musculus/Mus_musculus.GRCm38.96.gtf\", sep=\"\\t\", header=None, comment=\"#\")\n"
     ]
    }
   ],
   "source": [
    "import pandas as pd\n",
    "gtf = pd.read_csv(\"annotation/mus_musculus/Mus_musculus.GRCm38.96.gtf\", sep=\"\\t\", header=None, comment=\"#\")\n",
    "gtf = gtf[gtf[2]==\"gene\"]\n",
    "gtf[9] = gtf[8].apply(lambda x: x.split(\"; \")[0].split(\" \")[-1][1:-1])\n",
    "gtf[10] = gtf[8].apply(lambda x: x.split(\"; \")[-1].split(\" \")[-1][1:-2])\n",
    "gtf.set_index(9)[[10]].to_csv(\"annotation/mus_musculus/gene_biotype.txt\", sep=\"\\t\", header=None)"
   ]
  },
  {
   "cell_type": "markdown",
   "id": "6c6bc37a-aabd-4ce4-b261-6043b2f5e26e",
   "metadata": {},
   "source": [
    "# 1. Download RNAseq data\n",
    "\n",
    "## 1.1 Chen et al. (2015) Hypothalamus RNAseq\n",
    "\n",
    "> [GSE Accession: GSE66870](https://www.ncbi.nlm.nih.gov/geo/query/acc.cgi?acc=GSE66870)\n",
    "\n",
    "Because Chen et al. (2015) does not provide gene exon count information in their supplementary file(s), we will have to download the raw data. After downloading the raw data, it must be mapped and gene exon counts need to be extracted. What a chore!"
   ]
  },
  {
   "cell_type": "code",
   "execution_count": 2,
   "id": "9cfb967a-c77c-48e5-aacb-ba07ec90abfd",
   "metadata": {},
   "outputs": [],
   "source": [
    "# Execute in python\n",
    "\n",
    "list_of_gsms = [f\"GSM16335{n}\" for n in range(81, 87)]\n",
    "with open(\"data/GSE66870/gsms.txt\", \"w\") as wH:\n",
    "    for gsm in list_of_gsms:\n",
    "        print(gsm, file=wH)"
   ]
  },
  {
   "cell_type": "markdown",
   "id": "4c470e8f-38dd-4cdf-af94-47c2e35d3467",
   "metadata": {
    "jp-MarkdownHeadingCollapsed": true,
    "tags": []
   },
   "source": [
    "### 1.1.1 Download RAW fastq\n",
    "\n",
    "> Execute in command line\n",
    "\n",
    "```bash\n",
    "$ cd data/GSE66870\n",
    "\n",
    "$ cat gsms.txt | parallel -j 1 -u \"ffq --ftp {} | jq -r '.[] | .url'\" > ftp_links.txt\n",
    "\n",
    "$ cat ftp_links.txt | parallel -j 1 -u 'curl -O {}'\n",
    "```\n",
    "\n",
    "### 1.1.2 Create `data/GSE66870.sampleSheet.tsv`\n",
    "\n",
    "```\n",
    "name    condition\n",
    "SRR1914886      WT\n",
    "SRR1914888      WT\n",
    "SRR1914890      WT\n",
    "SRR1914885      KO\n",
    "SRR1914887      KO\n",
    "SRR1914889      KO\n",
    "```"
   ]
  },
  {
   "cell_type": "markdown",
   "id": "396de2f9-7d09-4f5e-a497-8b093cf153c8",
   "metadata": {},
   "source": [
    "## 1.2 Gabel et al. (2015) Visual cortex RNAseq\n",
    "\n",
    "> [GSE Accession: GSE67294](https://www.ncbi.nlm.nih.gov/geo/query/acc.cgi?acc=GSE67294)\n",
    "\n",
    "Because Gabel et al. (2015) does not provide exon count information in their supplementary file(s), we will have to download the raw data. After downloading the raw data, it must be mapped and gene exon counts need to be extracted. What a chore!"
   ]
  },
  {
   "cell_type": "code",
   "execution_count": 3,
   "id": "af79eb33-c03a-45c1-bcf2-d0c8bc0b44d9",
   "metadata": {},
   "outputs": [],
   "source": [
    "# Execute in python\n",
    "\n",
    "list_of_gsms = [f\"GSM16439{n}\" for n in range(40, 46)]\n",
    "with open(\"data/GSE67294/gsms.txt\", \"w\") as wH:\n",
    "    for gsm in list_of_gsms:\n",
    "        print(gsm, file=wH)"
   ]
  },
  {
   "cell_type": "markdown",
   "id": "1a03e1b8-4b72-448c-9c02-c2f9adf7c540",
   "metadata": {
    "tags": []
   },
   "source": [
    "### 1.1.1 Download RAW fastq\n",
    "\n",
    "> Execute in command line\n",
    "\n",
    "```bash\n",
    "$ cd data/GSE67294\n",
    "\n",
    "$ cat gsms.txt | parallel -j 1 -u \"ffq --ftp {} | jq -r '.[] | .url'\" > ftp_links.txt\n",
    "\n",
    "$ cat ftp_links.txt | parallel -j 1 -u 'curl -O {}'\n",
    "```\n",
    "\n",
    "### 1.1.2 Create `data/GSE67294.sampleSheet.tsv`\n",
    "\n",
    "```\n",
    "name    condition\n",
    "SRR1930037      WT\n",
    "SRR1930038      WT\n",
    "SRR1930039      WT\n",
    "SRR1930034      KO\n",
    "SRR1930035      KO\n",
    "SRR1930036      KO\n",
    "```"
   ]
  },
  {
   "cell_type": "markdown",
   "id": "0d7794e3-c7d5-447d-8fea-ef4ff5bf8f26",
   "metadata": {},
   "source": [
    "## 1.3 Boxer et al. (2020) Forebrain RNAseq\n",
    "\n",
    "> [GSE Accession: GSE128178](https://www.ncbi.nlm.nih.gov/geo/query/acc.cgi?acc=GSE128178)\n",
    "\n",
    "Since we are downloading raw data for Gabel et al. (2015) and Chen et al. (2015), why not do the same thing for this one too, eh! More chores just for consistency."
   ]
  },
  {
   "cell_type": "code",
   "execution_count": 4,
   "id": "4d870644-7e42-486e-957a-204a56dfe7ee",
   "metadata": {},
   "outputs": [],
   "source": [
    "list_of_gsms = [f\"GSM3666{n}\" for n in range(190, 210)]\n",
    "with open(\"data/GSE128178/gsms.txt\", \"w\") as wH:\n",
    "    for gsm in list_of_gsms:\n",
    "        print(gsm, file=wH)"
   ]
  },
  {
   "cell_type": "markdown",
   "id": "d536a6f5-3ee8-4ce6-a94c-0db8aeed04b6",
   "metadata": {
    "tags": []
   },
   "source": [
    "### 1.1.1 Download RAW fastq\n",
    "\n",
    "> Execute in command line\n",
    "\n",
    "```bash\n",
    "$ cd data/GSE128178\n",
    "\n",
    "$ cat gsms.txt | parallel -j 1 -u \"ffq --ftp {} | jq -r '.[] | .url'\" > ftp_links.txt\n",
    "\n",
    "$ cat ftp_links.txt | parallel -j 1 -u 'curl -O {}'\n",
    "```\n",
    "\n",
    "### 1.1.2 Create `data/GSE128178.sampleSheet.tsv`\n",
    "\n",
    "```\n",
    "name    condition\n",
    "SRR8714114      WT\n",
    "SRR8714115      WT\n",
    "SRR8714116      WT\n",
    "SRR8714117      WT\n",
    "SRR8714118      WT\n",
    "SRR8714119      WT\n",
    "SRR8714120      WT\n",
    "SRR8714121      WT\n",
    "SRR8714122      WT\n",
    "SRR8714123      WT\n",
    "SRR8714124      KO\n",
    "SRR8714125      KO\n",
    "SRR8714126      KO\n",
    "SRR8714127      KO\n",
    "SRR8714128      KO\n",
    "SRR8714129      KO\n",
    "SRR8714130      KO\n",
    "SRR8714131      KO\n",
    "SRR8714132      KO\n",
    "SRR8714133      KO\n",
    "```"
   ]
  },
  {
   "cell_type": "markdown",
   "id": "50a5ab1a-a541-4efd-8534-abff50357cfd",
   "metadata": {},
   "source": [
    "## 1.5 Quantify mRNA abundance\n",
    "\n",
    "In order to keep quantification across multiple data sets consistent, `Snakefile` contains the command line arguments to execute [kallisto](https://pachterlab.github.io/kallisto/) for the above raw fastq files\n",
    "\n",
    "```bash\n",
    "$ snakemake singleend pairedend -p -j 1\n",
    "```\n",
    "\n",
    "## 1.6 Perform differential expression analysis\n",
    "\n",
    "Import transcript abundance according to this [workflow](https://bioconductor.org/packages/devel/bioc/vignettes/tximport/inst/doc/tximport.html) and perform differential expression analysis using [DESeq2](https://bioconductor.org/packages/release/bioc/vignettes/DESeq2/inst/doc/DESeq2.html)\n",
    "\n",
    "```bash\n",
    "$ snakemake counts intcounts deseq -p -j 1\n",
    "```"
   ]
  },
  {
   "cell_type": "markdown",
   "id": "ebea9fe9-dad2-4868-9c0d-5c00f3ac5a35",
   "metadata": {},
   "source": [
    "## 1.7 Johnson et al. (2017) Excitatory neurons processed RNAseq\n",
    "\n",
    "> [GSE Accession: GSE83474](https://www.ncbi.nlm.nih.gov/geo/query/acc.cgi?acc=GSE83474)\n",
    "\n",
    "The processed data readily provides gene exon counts."
   ]
  },
  {
   "cell_type": "code",
   "execution_count": 5,
   "id": "b3e9f0e9-b030-4af1-9e0b-c32376882e25",
   "metadata": {},
   "outputs": [
    {
     "data": {
      "application/vnd.jupyter.widget-view+json": {
       "model_id": "",
       "version_major": 2,
       "version_minor": 0
      },
      "text/plain": [
       "?acc=GSE83474&format=file: 0.00B [00:00, ?B/s]"
      ]
     },
     "metadata": {},
     "output_type": "display_data"
    }
   ],
   "source": [
    "# Execute in python\n",
    "\n",
    "import pandas as pd\n",
    "from tqdm.auto import tqdm\n",
    "import urllib.request\n",
    "\n",
    "class DownloadProgressBar(tqdm):\n",
    "    def update_to(self, b=1, bsize=1, tsize=None):\n",
    "        if tsize is not None:\n",
    "            self.total = tsize\n",
    "        self.update(b * bsize - self.n)\n",
    "\n",
    "def download_url(url, output_path):\n",
    "    with DownloadProgressBar(unit='B', unit_scale=True, leave=False, miniters=1, desc=url.split('/')[-1]) as t:\n",
    "        urllib.request.urlretrieve(url, filename=output_path, reporthook=t.update_to)\n",
    "        \n",
    "download_url(\"https://www.ncbi.nlm.nih.gov/geo/download/?acc=GSE83474&format=file\", \"data/GSE83474.tar\")    "
   ]
  },
  {
   "cell_type": "markdown",
   "id": "81bbfbb6-75de-41d7-beec-d4a0f881e756",
   "metadata": {},
   "source": [
    "### 1.4.1 Save the counts in `counts/GSE83474.tsv`"
   ]
  },
  {
   "cell_type": "markdown",
   "id": "7cc5d377-dbf9-495b-9181-2e2908f1424f",
   "metadata": {},
   "source": [
    "```bash\n",
    "$ cd data\n",
    "\n",
    "$ extract GSE83474.tar\n",
    "```"
   ]
  },
  {
   "cell_type": "code",
   "execution_count": 6,
   "id": "b4caf9dd-dcd2-473c-a225-b45add682333",
   "metadata": {},
   "outputs": [],
   "source": [
    "import glob\n",
    "files = sorted(glob.glob(\"data/*Male_excitatory_6w*.txt.gz\"))\n",
    "dfs = []\n",
    "for file in files:\n",
    "    df = pd.read_csv(file, sep=\"\\t\", index_col=0)[[\"Annotation\", \"Count\"]]\n",
    "    df = df[df[\"Annotation\"]==\"protein_coding\"][[\"Count\"]]\n",
    "    df.columns = [file.split(\"_6w_\")[-1].split(\"_count\")[0]]\n",
    "    dfs.append(df)\n",
    "counts = pd.concat(dfs, axis=1).dropna()\n",
    "counts.to_csv(\"counts/GSE83474.tsv\", sep=\"\\t\")"
   ]
  },
  {
   "cell_type": "markdown",
   "id": "ae378bfc-ad23-427b-b1d1-50f4a6b282e5",
   "metadata": {},
   "source": [
    "### 1.4.2 Save the experiment design in `counts/GSE83474.design.tsv`\n",
    "\n",
    "```\n",
    "sample  condition\n",
    "WT_nuclear_RNAseq_rep1  WT\n",
    "WT_nuclear_RNAseq_rep2  WT\n",
    "WT_nuclear_RNAseq_rep3  WT\n",
    "WT_nuclear_RNAseq_rep4  WT\n",
    "R106W_nuclear_RNAseq_rep1       R106W\n",
    "R106W_nuclear_RNAseq_rep2       R106W\n",
    "R106W_nuclear_RNAseq_rep3       R106W\n",
    "R106W_nuclear_RNAseq_rep4       R106W\n",
    "T158M_nuclear_RNAseq_rep1       T158M\n",
    "T158M_nuclear_RNAseq_rep2       T158M\n",
    "T158M_nuclear_RNAseq_rep3       T158M\n",
    "T158M_nuclear_RNAseq_rep4       T158M\n",
    "```\n",
    "\n",
    "### 1.4.3 Save the following DESeq2 code in `counts/GSE83474.DESeq2.R`\n",
    "\n",
    "```R\n",
    "library(BiocParallel)\n",
    "library(DESeq2)\n",
    "register(MulticoreParam(4))\n",
    "\n",
    "deseq_function <- function(counts_file, design_file, threshold, out_prefix){\n",
    "    \n",
    "    counts = read.csv(counts_file, sep=\"\\t\", header = TRUE, row.names = 1, check.names = FALSE)\n",
    "    design = read.csv(design_file, header=TRUE, sep=\"\\t\", row.names=1)\n",
    "    \n",
    "    dds <- DESeqDataSetFromMatrix(countData = counts, colData = design, design = ~ condition)\n",
    "    dds <- dds[rowSums(counts(dds)) > threshold,]\n",
    "\n",
    "    # Performing DESeq2 analysis\n",
    "    dds <- DESeq(dds, parallel=TRUE)    \n",
    "    saveRDS(dds, file=paste(out_prefix, \"dds.rds\", collapse=\"\", sep=\"\"))\n",
    "    \n",
    "    rld <- rlog(dds)\n",
    "    r106w_vs_wt <- results(dds, c(\"condition\", \"R106W\", \"WT\"), independentFiltering = TRUE)\n",
    "    write.table(as.data.frame(r106w_vs_wt), file=paste( out_prefix, \"R106W_vs_WT.tsv\", collapse = \"\", sep=\"\"), quote=F, col.names=NA, sep=\"\\t\")\n",
    "    \n",
    "    t158m_vs_wt <- results(dds, c(\"condition\", \"T158M\", \"WT\"), independentFiltering = TRUE)\n",
    "    write.table(as.data.frame(t158m_vs_wt), file=paste( out_prefix, \"T158M_vs_WT.tsv\", collapse = \"\", sep=\"\"), quote=F, col.names=NA, sep=\"\\t\")\n",
    "    print(paste(c(counts_file, \"finished\")))\n",
    "}\n",
    "\n",
    "deseq_function(\"GSE83474.tsv\", \"GSE83474.design.tsv\", 20, \"GSE83474.DESeq2.results/\")\n",
    "```\n",
    "\n",
    "### 1.4.4 Run DESeq2\n",
    "\n",
    "```bash\n",
    "$ cd counts\n",
    "$ mkdir GSE83474.DESeq2.results\n",
    "$ Rscript GSE83474.DESeq2.R\n",
    "```"
   ]
  }
 ],
 "metadata": {
  "kernelspec": {
   "display_name": "Python 3 (ipykernel)",
   "language": "python",
   "name": "python3"
  },
  "language_info": {
   "codemirror_mode": {
    "name": "ipython",
    "version": 3
   },
   "file_extension": ".py",
   "mimetype": "text/x-python",
   "name": "python",
   "nbconvert_exporter": "python",
   "pygments_lexer": "ipython3",
   "version": "3.10.5"
  }
 },
 "nbformat": 4,
 "nbformat_minor": 5
}
