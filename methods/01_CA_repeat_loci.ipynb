{
 "cells": [
  {
   "cell_type": "markdown",
   "id": "cb29c23b-c60f-44bb-bbf5-759d047e64eb",
   "metadata": {
    "tags": []
   },
   "source": [
    "# 1. Download RepeatMasker loci for mouse genome\n",
    "\n",
    "## 1.1 mm9"
   ]
  },
  {
   "cell_type": "code",
   "execution_count": 1,
   "id": "8e3ef30b-d515-41f9-8a7d-0c7d94830175",
   "metadata": {},
   "outputs": [],
   "source": [
    "import os\n",
    "from ftplib import FTP\n",
    "import pandas as pd\n",
    "from tqdm.auto import tqdm\n",
    "\n",
    "# Login to UCSC ftp server\n",
    "\n",
    "ftp = FTP(\"hgdownload.soe.ucsc.edu\")\n",
    "ftp.login()\n",
    "\n",
    "# Change directory to mm9 and download list of chromosomes\n",
    "\n",
    "ftp.cwd(\"goldenPath/mm9/bigZips\")\n",
    "with open(\"data/mm9.chrom.sizes\", \"wb\") as fp:\n",
    "    ftp.retrbinary('RETR mm9.chrom.sizes', fp.write)\n",
    "mm9_chrom_sizes = pd.read_csv(\"data/mm9.chrom.sizes\", sep=\"\\t\", header=None)\n",
    "\n",
    "\n",
    "# Download RepeatMasker tracks for each chromosome (mm9) and save it in one file\n",
    "\n",
    "ftp.cwd(\"../database\")\n",
    "with open(\"data/mm9.rmsk.txt.gz\", \"wb\") as fp:\n",
    "    for chromosome in tqdm(mm9_chrom_sizes[0].values, leave=False, desc=\"Downloading rmsk.txt.gz for mm9\"):\n",
    "        ftp.retrbinary(f'RETR {chromosome}_rmsk.txt.gz', fp.write)\n",
    "\n",
    "# Load the repeat masker loci as pandas.DataFrame\n",
    "        \n",
    "mm9_rmsk = pd.read_csv(\"data/mm9.rmsk.txt.gz\", sep=\"\\t\", compression=\"gzip\", header=None, comment=\"#\")\n",
    "mm9_rmsk = mm9_rmsk[mm9_rmsk[5].isin(mm9_chrom_sizes[0].values)]"
   ]
  },
  {
   "cell_type": "code",
   "execution_count": 2,
   "id": "f6e4f77e-a556-4a40-85ce-4fa4c68a2e07",
   "metadata": {},
   "outputs": [
    {
     "data": {
      "text/plain": [
       "'221 Goodbye.'"
      ]
     },
     "execution_count": 2,
     "metadata": {},
     "output_type": "execute_result"
    }
   ],
   "source": [
    "ftp.cwd(\"../liftOver\")\n",
    "with open(\"windows/mm9ToMm10.over.chain.gz\", \"wb\") as fp:\n",
    "    ftp.retrbinary('RETR mm9ToMm10.over.chain.gz', fp.write)\n",
    "ftp.quit()"
   ]
  },
  {
   "cell_type": "code",
   "execution_count": 3,
   "id": "ffacfb04-c8f7-41e5-aa54-2ea37e740aa0",
   "metadata": {},
   "outputs": [],
   "source": [
    "!gunzip -d windows/mm9ToMm10.over.chain.gz"
   ]
  },
  {
   "cell_type": "code",
   "execution_count": 4,
   "id": "9e6f1acc-0c40-48d4-81fc-67382262421d",
   "metadata": {},
   "outputs": [
    {
     "data": {
      "text/plain": [
       "'221 Goodbye.'"
      ]
     },
     "execution_count": 4,
     "metadata": {},
     "output_type": "execute_result"
    }
   ],
   "source": [
    "ftp = FTP(\"hgdownload.cse.ucsc.edu\")\n",
    "ftp.login()\n",
    "ftp.cwd(\"goldenPath/mm10/liftOver\")\n",
    "with open(\"windows/mm10ToMm9.over.chain.gz\", \"wb\") as fp:\n",
    "    ftp.retrbinary('RETR mm10ToMm9.over.chain.gz', fp.write)\n",
    "ftp.quit()"
   ]
  },
  {
   "cell_type": "code",
   "execution_count": 5,
   "id": "6b625c13-0e01-46a1-83d3-51da18369972",
   "metadata": {},
   "outputs": [],
   "source": [
    "!gunzip -d windows/mm10ToMm9.over.chain.gz"
   ]
  },
  {
   "cell_type": "markdown",
   "id": "a62092ab-a352-4c16-a6b1-a2661f38b9f5",
   "metadata": {},
   "source": [
    "### 1.1.1 Save repeat loci for different contexts in bed files"
   ]
  },
  {
   "cell_type": "code",
   "execution_count": 2,
   "id": "cd8ee7ae-78db-44fa-824b-382f092f20ca",
   "metadata": {},
   "outputs": [
    {
     "data": {
      "application/vnd.jupyter.widget-view+json": {
       "model_id": "",
       "version_major": 2,
       "version_minor": 0
      },
      "text/plain": [
       "  0%|          | 0/5 [00:00<?, ?it/s]"
      ]
     },
     "metadata": {},
     "output_type": "display_data"
    }
   ],
   "source": [
    "# Iterate through different context to extract simple repeats from the full list\n",
    "\n",
    "complement = {'A': 'T', 'C': 'G', 'G': 'C', 'T': 'A'}\n",
    "\n",
    "for repeat_sequence in tqdm(['CA', 'CAA', 'CAT', 'CAG', 'CAC'], leave=False):\n",
    "    repeat_sequence_label = f\"({repeat_sequence})n\"\n",
    "    rc_repeat_sequence_label = \"(\" + \"\".join(complement.get(base) for base in reversed(repeat_sequence)) + \")n\"\n",
    "    mm9_rmsk[(mm9_rmsk[10]==repeat_sequence_label) | (mm9_rmsk[10]==rc_repeat_sequence_label)][[5,6,7]].sort_values(by=[5,6]).to_csv(f\"data/mm9.{repeat_sequence}n.bed\", sep=\"\\t\",\n",
    "        header=None, index=None)"
   ]
  },
  {
   "cell_type": "markdown",
   "id": "d9731b11-239d-42d7-ade3-322b5aa68b1b",
   "metadata": {},
   "source": [
    "```bash\n",
    "\n",
    "$ cat mm9.CAAn.bed mm9.CACn.bed mm9.CAGn.bed mm9.CATn.bed | sort -k1,1 -k2,2n > mm9.CANn.bed\n",
    "```"
   ]
  },
  {
   "cell_type": "markdown",
   "id": "12bd5033-952d-46bf-9bf1-e361e33380d7",
   "metadata": {},
   "source": [
    "### 1.1.2 Save all simple repeats except (CA)n and (TG)n in a bed file"
   ]
  },
  {
   "cell_type": "code",
   "execution_count": 3,
   "id": "bdb941ef-4717-44cb-a994-a50a801f1f68",
   "metadata": {},
   "outputs": [],
   "source": [
    "mm9_rmsk[(mm9_rmsk[11]==\"Simple_repeat\") & (mm9_rmsk[10]!=\"(CA)n\") & (mm9_rmsk[10]!=\"(TG)n\")][[5,6,7]].sort_values(by=[5,6]).to_csv(f\"data/mm9.except.CAn.bed\", sep=\"\\t\",\n",
    "        header=None, index=None)"
   ]
  },
  {
   "cell_type": "markdown",
   "id": "292c2aa7-59cf-494e-a836-fda12aea8745",
   "metadata": {},
   "source": [
    "## 1.2 mm10"
   ]
  },
  {
   "cell_type": "code",
   "execution_count": 4,
   "id": "2160f80e-d1a2-4d49-8e37-382be5e0d048",
   "metadata": {},
   "outputs": [],
   "source": [
    "# Change directory to mm10 and download the combined RepeatMasker track\n",
    "\n",
    "ftp.cwd(\"../../mm10/database\")\n",
    "with open(\"data/mm10.rmsk.txt.gz\", \"wb\") as fp:\n",
    "    ftp.retrbinary('RETR rmsk.txt.gz', fp.write)\n",
    "\n",
    "ftp.cwd(\"../bigZips\")\n",
    "with open(\"data/mm10.chrom.sizes\", \"wb\") as fp:\n",
    "    ftp.retrbinary('RETR mm10.chrom.sizes', fp.write)\n",
    "mm10_chrom_sizes = pd.read_csv(\"data/mm10.chrom.sizes\", sep=\"\\t\", header=None)\n",
    "    \n",
    "# Load the repeat masker loci as pandas.DataFrame\n",
    "        \n",
    "mm10_rmsk = pd.read_csv(\"data/mm10.rmsk.txt.gz\", sep=\"\\t\", compression=\"gzip\", header=None, comment=\"#\")\n",
    "mm10_rmsk = mm10_rmsk[mm10_rmsk[5].isin(mm10_chrom_sizes[0].values)]"
   ]
  },
  {
   "cell_type": "markdown",
   "id": "ad0d716d-2c85-4341-85eb-e7405fe36104",
   "metadata": {},
   "source": [
    "### 1.1.1 Save repeat loci for different contexts in bed files"
   ]
  },
  {
   "cell_type": "code",
   "execution_count": 5,
   "id": "dfc031ef-c5f2-49bd-bee2-252c4df2a180",
   "metadata": {},
   "outputs": [
    {
     "data": {
      "application/vnd.jupyter.widget-view+json": {
       "model_id": "",
       "version_major": 2,
       "version_minor": 0
      },
      "text/plain": [
       "  0%|          | 0/5 [00:00<?, ?it/s]"
      ]
     },
     "metadata": {},
     "output_type": "display_data"
    }
   ],
   "source": [
    "# Iterate through different context to extract simple repeats from the full list\n",
    "\n",
    "for repeat_sequence in tqdm(['CA', 'CAA', 'CAT', 'CAG', 'CAC'], leave=False):\n",
    "    repeat_sequence_label = f\"({repeat_sequence})n\"\n",
    "    rc_repeat_sequence_label = \"(\" + \"\".join(complement.get(base) for base in reversed(repeat_sequence)) + \")n\"\n",
    "    mm10_rmsk[(mm10_rmsk[10]==repeat_sequence_label) | (mm10_rmsk[10]==rc_repeat_sequence_label)][[5,6,7]].sort_values(by=[5,6]).to_csv(f\"data/mm10.{repeat_sequence}n.bed\", sep=\"\\t\",\n",
    "        header=None, index=None)"
   ]
  },
  {
   "cell_type": "markdown",
   "id": "38fc4483-9b7d-4211-ba28-622839dc146e",
   "metadata": {},
   "source": [
    "```bash\n",
    "\n",
    "$ cat mm10.CAAn.bed mm10.CACn.bed mm10.CAGn.bed mm10.CATn.bed | sort -k1,1 -k2,2n > mm10.CANn.bed\n",
    "```"
   ]
  },
  {
   "cell_type": "markdown",
   "id": "c3dfe7fa-2c1d-4e54-9df6-81ca51c6c2e8",
   "metadata": {},
   "source": [
    "### 1.1.2 Save all simple repeats except (CA)n and (TG)n in a bed file"
   ]
  },
  {
   "cell_type": "code",
   "execution_count": 6,
   "id": "4f27b282-8b28-4a8c-b42a-c54959d04225",
   "metadata": {},
   "outputs": [],
   "source": [
    "mm10_rmsk[(mm10_rmsk[11]==\"Simple_repeat\") & (mm10_rmsk[10]!=\"(CA)n\") & (mm10_rmsk[10]!=\"(TG)n\")][[5,6,7]].sort_values(by=[5,6]).to_csv(f\"data/mm10.except.CAn.bed\", sep=\"\\t\",\n",
    "        header=None, index=None)"
   ]
  },
  {
   "cell_type": "markdown",
   "id": "05f4cc0a-90f1-4b39-8b57-df745d9301bb",
   "metadata": {},
   "source": [
    "# 2. Generate genomic windows\n",
    "\n",
    "```bash\n",
    "$ snakemake windows repeat_windows -p -j 1\n",
    "```"
   ]
  }
 ],
 "metadata": {
  "kernelspec": {
   "display_name": "Python 3 (ipykernel)",
   "language": "python",
   "name": "python3"
  },
  "language_info": {
   "codemirror_mode": {
    "name": "ipython",
    "version": 3
   },
   "file_extension": ".py",
   "mimetype": "text/x-python",
   "name": "python",
   "nbconvert_exporter": "python",
   "pygments_lexer": "ipython3",
   "version": "3.10.5"
  }
 },
 "nbformat": 4,
 "nbformat_minor": 5
}
