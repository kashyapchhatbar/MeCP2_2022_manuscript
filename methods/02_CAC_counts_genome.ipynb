{
 "cells": [
  {
   "cell_type": "markdown",
   "id": "2223a3e6-0f94-470f-8f0a-ea7f9c35ca03",
   "metadata": {
    "tags": []
   },
   "source": [
    "# Prerequisisites\n",
    "\n",
    "- [jellyfish](https://github.com/gmarcais/Jellyfish)\n",
    "\n",
    "# 2. Count the number of CAC occurences in mouse and human genome\n",
    "\n",
    "## 2.1 Download mm9 genome"
   ]
  },
  {
   "cell_type": "code",
   "execution_count": 1,
   "id": "5aa82111-fd48-4354-8d6a-59a1b6553803",
   "metadata": {},
   "outputs": [],
   "source": [
    "import os\n",
    "from ftplib import FTP\n",
    "import pandas as pd\n",
    "from tqdm.auto import tqdm\n",
    "import urllib.request"
   ]
  },
  {
   "cell_type": "code",
   "execution_count": 2,
   "id": "725d9525-7275-43d0-899a-6f23151e943d",
   "metadata": {},
   "outputs": [],
   "source": [
    "# Login to UCSC ftp server\n",
    "\n",
    "ftp = FTP(\"hgdownload.soe.ucsc.edu\")\n",
    "ftp.login()\n",
    "\n",
    "# Change directory to mm9 and download genome\n",
    "\n",
    "ftp.cwd(\"goldenPath/mm9/bigZips\")\n",
    "with open(\"data/mm9.chromFa.tar.gz\", \"wb\") as fp:\n",
    "    ftp.retrbinary('RETR chromFa.tar.gz', fp.write)"
   ]
  },
  {
   "cell_type": "code",
   "execution_count": 3,
   "id": "62bd513b-8e66-40b3-82bb-0fe8319b4bf3",
   "metadata": {},
   "outputs": [],
   "source": [
    "!tar xzOf data/mm9.chromFa.tar.gz > data/mm9.genome.fa"
   ]
  },
  {
   "cell_type": "code",
   "execution_count": 5,
   "id": "839cd053-ab30-485d-8c12-1010b1e45838",
   "metadata": {},
   "outputs": [
    {
     "data": {
      "text/plain": [
       "'221 Goodbye.'"
      ]
     },
     "execution_count": 5,
     "metadata": {},
     "output_type": "execute_result"
    }
   ],
   "source": [
    "ftp.cwd(\"../../mm10/bigZips\")\n",
    "with open(\"data/mm10.fa.gz\", \"wb\") as fp:\n",
    "    ftp.retrbinary('RETR mm10.fa.gz', fp.write)\n",
    "ftp.quit()"
   ]
  },
  {
   "cell_type": "code",
   "execution_count": 6,
   "id": "524e9a34-6070-40f6-82e6-28537a1f74cc",
   "metadata": {},
   "outputs": [],
   "source": [
    "!gunzip -c data/mm10.fa.gz > data/mm10.genome.fa"
   ]
  },
  {
   "cell_type": "markdown",
   "id": "2c5f5b8b-d7ec-47e8-83ec-6d4a80886dfb",
   "metadata": {},
   "source": [
    "## 2.2 Download human genome (chm13-v1.1)\n",
    "\n",
    "> https://s3-us-west-2.amazonaws.com/human-pangenomics/T2T/CHM13/assemblies/chm13.draft_v1.1.fasta.gz"
   ]
  },
  {
   "cell_type": "code",
   "execution_count": 4,
   "id": "a80b7475-e4b1-470c-b57f-0b906cd79113",
   "metadata": {},
   "outputs": [],
   "source": [
    "class DownloadProgressBar(tqdm):\n",
    "    def update_to(self, b=1, bsize=1, tsize=None):\n",
    "        if tsize is not None:\n",
    "            self.total = tsize\n",
    "        self.update(b * bsize - self.n)\n",
    "\n",
    "def download_url(url, output_path):\n",
    "    with DownloadProgressBar(unit='B', unit_scale=True, leave=False, miniters=1, desc=url.split('/')[-1]) as t:\n",
    "        urllib.request.urlretrieve(url, filename=output_path, reporthook=t.update_to)"
   ]
  },
  {
   "cell_type": "code",
   "execution_count": 5,
   "id": "295d21bb-c4a3-43b9-9f29-3d0ac94502e1",
   "metadata": {},
   "outputs": [
    {
     "data": {
      "application/vnd.jupyter.widget-view+json": {
       "model_id": "",
       "version_major": 2,
       "version_minor": 0
      },
      "text/plain": [
       "chm13.draft_v1.1.fasta.gz: 0.00B [00:00, ?B/s]"
      ]
     },
     "metadata": {},
     "output_type": "display_data"
    }
   ],
   "source": [
    "download_url(\"https://s3-us-west-2.amazonaws.com/human-pangenomics/T2T/CHM13/assemblies/chm13.draft_v1.1.fasta.gz\",\n",
    "             \"data/chm13.draft_v1.1.fasta.gz\")"
   ]
  },
  {
   "cell_type": "code",
   "execution_count": 6,
   "id": "1c9e0567-ec4f-4160-9471-fd08c10b8ae0",
   "metadata": {},
   "outputs": [],
   "source": [
    "!gunzip -c data/chm13.draft_v1.1.fasta.gz > data/chm13.draft_v1.1.fasta"
   ]
  },
  {
   "cell_type": "markdown",
   "id": "5de943a4-fd95-4717-8cd9-45a43de401ae",
   "metadata": {},
   "source": [
    "### 2.2.1 Download RepeatMasker tracks for chm13-v1.1\n",
    "\n",
    "> S. J. Hoyt, J. M. Storer, G. A. Hartley, P. G. Grady, A. Gershman, C. Limouse, R. Halabian, L. Wojenski, and R. J. O’Neill. From telomere to telomere: the transcriptional and epigenetic state of human repeat elements analysis code: T2T-CHM13, Jan. 2022. URL [https://doi.org/10.5281/zenodo.5895031](https://doi.org/10.5281/zenodo.5895031)"
   ]
  },
  {
   "cell_type": "code",
   "execution_count": 7,
   "id": "ef5f9cf1-ebfb-4fa0-95f6-bed478c974d1",
   "metadata": {},
   "outputs": [
    {
     "data": {
      "application/vnd.jupyter.widget-view+json": {
       "model_id": "",
       "version_major": 2,
       "version_minor": 0
      },
      "text/plain": [
       "t2t-chm13-v1.1.rmsk.bigBed: 0.00B [00:00, ?B/s]"
      ]
     },
     "metadata": {},
     "output_type": "display_data"
    }
   ],
   "source": [
    "download_url(\"https://zenodo.org/record/5895031/files/t2t-chm13-v1.1.rmsk.bigBed\", \"data/t2t-chm13-v1.1.rmsk.bigBed\")"
   ]
  },
  {
   "cell_type": "code",
   "execution_count": 8,
   "id": "e26bc25f-78ef-46c8-b3e4-68f6da1fd9b1",
   "metadata": {},
   "outputs": [],
   "source": [
    "!bigBedToBed data/t2t-chm13-v1.1.rmsk.bigBed data/t2t-chm13-v1.1.rmsk.bed"
   ]
  },
  {
   "cell_type": "code",
   "execution_count": 11,
   "id": "30468a13-7c41-450d-b808-b8a8c95d0ee8",
   "metadata": {},
   "outputs": [
    {
     "data": {
      "application/vnd.jupyter.widget-view+json": {
       "model_id": "",
       "version_major": 2,
       "version_minor": 0
      },
      "text/plain": [
       "  0%|          | 0/5 [00:00<?, ?it/s]"
      ]
     },
     "metadata": {},
     "output_type": "display_data"
    }
   ],
   "source": [
    "chm13_rmsk = pd.read_csv(\"data/t2t-chm13-v1.1.rmsk.bed\", sep=\"\\t\", header=None)\n",
    "\n",
    "# Iterate through different context to extract simple repeats from the full list\n",
    "\n",
    "complement = {'A': 'T', 'C': 'G', 'G': 'C', 'T': 'A'}\n",
    "\n",
    "for repeat_sequence in tqdm(['CA', 'CAA', 'CAT', 'CAG', 'CAC'], leave=False):\n",
    "    repeat_sequence_label = f\"({repeat_sequence})n\"\n",
    "    rc_repeat_sequence_label = \"(\" + \"\".join(complement.get(base) for base in reversed(repeat_sequence)) + \")n\"\n",
    "    chm13_rmsk[(chm13_rmsk[3]==repeat_sequence_label) | (chm13_rmsk[3]==rc_repeat_sequence_label)][[0,1,2]].sort_values(by=[0,1,2]).to_csv(f\"data/chm13.{repeat_sequence}n.bed\", sep=\"\\t\",\n",
    "        header=None, index=None)"
   ]
  },
  {
   "cell_type": "markdown",
   "id": "d4890022-5f8a-419d-a401-9a48a360fd52",
   "metadata": {},
   "source": [
    "```bash\n",
    "$ snakemake jellyfish -p -j 2\n",
    "```"
   ]
  },
  {
   "cell_type": "code",
   "execution_count": 8,
   "id": "72998310-1c13-48c8-aa33-42c989c07b4a",
   "metadata": {},
   "outputs": [
    {
     "name": "stdout",
     "output_type": "stream",
     "text": [
      "Warning: the index file is older than the FASTA file.\n",
      "Warning: the index file is older than the FASTA file.\n"
     ]
    }
   ],
   "source": [
    "!bedtools nuc -fi data/chm13.draft_v1.1.fasta -bed data/chm13.CAn.bed -pattern CAC -C > data/chm13.CAn.nuc\n",
    "!bedtools nuc -fi data/mm9.genome.fa -bed data/mm9.CAn.bed -pattern CAC -C > data/mm9.CAn.nuc\n",
    "!bedtools nuc -fi data/mm10.genome.fa -bed data/mm10.CAn.bed -pattern CAC -C > data/mm10.CAn.nuc\n",
    "!bedtools nuc -fi data/chm13.draft_v1.1.fasta -bed data/chm13.CAn.bed -pattern GTG -C > data/chm13.CAn.GTG.nuc\n",
    "!bedtools nuc -fi data/mm9.genome.fa -bed data/mm9.CAn.bed -pattern GTG -C > data/mm9.CAn.GTG.nuc\n",
    "!bedtools nuc -fi data/mm10.genome.fa -bed data/mm10.CAn.bed -pattern GTG -C > data/mm10.CAn.GTG.nuc"
   ]
  },
  {
   "cell_type": "code",
   "execution_count": 9,
   "id": "bdf55354-4683-4dc5-8a67-1a244e0607e0",
   "metadata": {},
   "outputs": [
    {
     "name": "stdout",
     "output_type": "stream",
     "text": [
      "mm9.genome 109,196,385\n",
      "mm9.CAn.bed  6,987,442\n",
      "\n",
      "mm10.genome 110,367,609\n",
      "mm10.CAn.bed  6,490,524\n",
      "\n",
      "chm13.genome 120,794,608\n",
      "chm13.CAn.bed    949,940\n"
     ]
    }
   ],
   "source": [
    "with open(\"data/mm9.chromFa.tar.gz.3mer.counts\") as iH:    \n",
    "    for line in iH:                \n",
    "        if line.strip().startswith(\"CAC\"):\n",
    "            print(\"mm9.genome\", \"{:,}\".format(int(next(iH).strip()[1:])))        \n",
    "print(\"mm9.CAn.bed  {:,}\".format(pd.concat([pd.read_csv(\"data/mm9.CAn.nuc\", sep=\"\\t\"),\n",
    "                                            pd.read_csv(\"data/mm9.CAn.GTG.nuc\", sep=\"\\t\")])[\"13_user_patt_count\"].sum()))\n",
    "print(\"\")\n",
    "\n",
    "with open(\"data/mm10.fa.gz.3mer.counts\") as iH:    \n",
    "    for line in iH:                \n",
    "        if line.strip().startswith(\"CAC\"):\n",
    "            print(\"mm10.genome\", \"{:,}\".format(int(next(iH).strip()[1:])))        \n",
    "print(\"mm10.CAn.bed  {:,}\".format(pd.concat([pd.read_csv(\"data/mm10.CAn.nuc\", sep=\"\\t\"),\n",
    "                                            pd.read_csv(\"data/mm10.CAn.GTG.nuc\", sep=\"\\t\")])[\"13_user_patt_count\"].sum()))\n",
    "\n",
    "\n",
    "\n",
    "print(\"\")\n",
    "with open(\"data/chm13.draft_v1.1.fasta.gz.3mer.counts\") as iH:    \n",
    "    for line in iH:                \n",
    "        if line.strip().startswith(\"CAC\"):\n",
    "            print(\"chm13.genome\", \"{:,}\".format(int(next(iH).strip()[1:])))\n",
    "        prevline = line        \n",
    "print(\"chm13.CAn.bed    {:,}\".format(pd.concat([pd.read_csv(\"data/chm13.CAn.nuc\", sep=\"\\t\"),\n",
    "                                                pd.read_csv(\"data/chm13.CAn.GTG.nuc\", sep=\"\\t\")])[\"13_user_patt_count\"].sum()))"
   ]
  }
 ],
 "metadata": {
  "kernelspec": {
   "display_name": "Python 3 (ipykernel)",
   "language": "python",
   "name": "python3"
  },
  "language_info": {
   "codemirror_mode": {
    "name": "ipython",
    "version": 3
   },
   "file_extension": ".py",
   "mimetype": "text/x-python",
   "name": "python",
   "nbconvert_exporter": "python",
   "pygments_lexer": "ipython3",
   "version": "3.10.5"
  }
 },
 "nbformat": 4,
 "nbformat_minor": 5
}
