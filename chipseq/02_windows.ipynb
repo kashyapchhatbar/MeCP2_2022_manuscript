{
 "cells": [
  {
   "cell_type": "markdown",
   "id": "63ea9c73-aaa6-4ac8-87c5-9b970045f012",
   "metadata": {},
   "source": [
    "# 2. Quantify average tracks across genomic windows and repeat loci windows\n",
    "\n",
    "## 2.1 Generate 1kb windows to use with ChIP data set"
   ]
  },
  {
   "cell_type": "code",
   "execution_count": 1,
   "id": "974a6805-efe0-49dd-a745-a8faff3e42c2",
   "metadata": {},
   "outputs": [],
   "source": [
    "import pandas as pd\n",
    "import glob\n",
    "import numpy as np\n",
    "\n",
    "files = glob.glob(\"../methods/windows/*.bed\")\n",
    "\n",
    "mm10_convert = pd.read_csv(\"../wgbs/scripts/GRCm38_ensembl2UCSC.txt\", sep=\"\\t\", header=None, index_col=1)[0].to_dict()\n",
    "mm9_convert = pd.read_csv(\"../wgbs/scripts/GRCm37_ensembl2UCSC.txt\", sep=\"\\t\", header=None, index_col=1)[0].to_dict()\n",
    "\n",
    "for f in files:\n",
    "    df = pd.read_csv(f, sep=\"\\t\", header=None)\n",
    "    df[3] = range(len(df))\n",
    "    df.dropna().to_csv(f\"wgbsseq/windows/{f.split('/')[-1].split('.bed')[0].replace('.', '_')}.bed\", \n",
    "              sep=\"\\t\", header=None, index=None)\n",
    "    if \"mm9\" in f:\n",
    "        df[0] = df[0].apply(lambda x: mm9_convert.get(str(x), np.nan))\n",
    "    df.dropna().to_csv(f\"windows/{f.split('/')[-1].split('.bed')[0].replace('.', '_')}.bed\", \n",
    "              sep=\"\\t\", header=None, index=None)"
   ]
  },
  {
   "cell_type": "markdown",
   "id": "5723531e-8095-40b9-89c9-a49720f24dcc",
   "metadata": {},
   "source": [
    "## 2.2 Select the appropriate coverage bedGraph track for `CAC`\n",
    "\n",
    "Link it to `wgbsseq` folder\n",
    "```bash\n",
    "$ ln -s ../../wgbs/GSE84533/GSE84533_hypothalamus_rep123.CAC.5.bedGraph.gz lagger_CAC.bedGraph.gz\n",
    "\n",
    "$ ln -s ../../wgbs/GSE47966/GSE47966_MethylC-Seq_mm_fc_male_7wk_neun_pos.CAC.10.bedGraph.gz lister_CAC.bedGraph.gz\n",
    "\n",
    "$ ln -s ../../wgbs/GSE128172/GSE128172_MeCP2_WT_OX_rep123.CAC.5.bedGraph.gz boxer_CAC.bedGraph.gz\n",
    "```\n",
    "\n",
    "## 2.3 Calculate average across the genome \n",
    "\n",
    "```bash\n",
    "$ snakemake -s wgbs_1kb_average.Snakefile mC_average_boxer mC_average screenshot_bw merge_CAn -p -j 5\n",
    "\n",
    "$ snakemake -s chip_1kb_average.Snakefile boxer gabel chen liftover -p -j 5\n",
    "```"
   ]
  }
 ],
 "metadata": {
  "kernelspec": {
   "display_name": "Python 3 (ipykernel)",
   "language": "python",
   "name": "python3"
  },
  "language_info": {
   "codemirror_mode": {
    "name": "ipython",
    "version": 3
   },
   "file_extension": ".py",
   "mimetype": "text/x-python",
   "name": "python",
   "nbconvert_exporter": "python",
   "pygments_lexer": "ipython3",
   "version": "3.10.5"
  }
 },
 "nbformat": 4,
 "nbformat_minor": 5
}
