{
 "cells": [
  {
   "cell_type": "markdown",
   "id": "271be1da-87f9-41cc-87e1-d022d7cc1166",
   "metadata": {},
   "source": [
    "# 1. Download ChIPseq data\n",
    "\n",
    "## 1.1 Chen et al. (2015) Hypothalamus ChIPseq\n",
    "\n",
    "> [GSE Accession: GSE66868](https://www.ncbi.nlm.nih.gov/geo/query/acc.cgi?acc=GSE66868)"
   ]
  },
  {
   "cell_type": "code",
   "execution_count": 3,
   "id": "d9fd3708-4f3c-47f4-8cfc-c53bd82d96f9",
   "metadata": {},
   "outputs": [],
   "source": [
    "# Execute in python\n",
    "\n",
    "list_of_gsms = [f\"GSM16335{n}\" for n in range(77, 79)]\n",
    "with open(\"data/GSE66868/gsms.txt\", \"w\") as wH:\n",
    "    for gsm in list_of_gsms:\n",
    "        print(gsm, file=wH)"
   ]
  },
  {
   "cell_type": "markdown",
   "id": "c8642418-daee-4983-ba6b-843675d0b1dc",
   "metadata": {
    "tags": []
   },
   "source": [
    "### 1.1.1 Download RAW fastq\n",
    "\n",
    "> Execute in command line\n",
    "\n",
    "```bash\n",
    "$ cd data/GSE66868\n",
    "\n",
    "$ cat gsms.txt | parallel -j 1 -u \"ffq --ftp {} | jq -r '.[] | .url'\" > ftp_links.txt\n",
    "\n",
    "$ cat ftp_links.txt | parallel -j 1 -u 'curl -O {}'\n",
    "```"
   ]
  },
  {
   "cell_type": "code",
   "execution_count": 4,
   "id": "47de16c0-15d7-4c6e-8262-cf6dfe7d88d5",
   "metadata": {},
   "outputs": [],
   "source": [
    "# Execute in python\n",
    "\n",
    "import glob\n",
    "import os\n",
    "chen_chip_fastqs = glob.glob(\"data/GSE66868/*.fastq.gz\")\n",
    "for fastq in chen_chip_fastqs:\n",
    "    os.rename(fastq, fastq.replace(\".fastq.gz\", \"_1.fastq.gz\"))"
   ]
  },
  {
   "cell_type": "markdown",
   "id": "1171642a-eb2e-494b-8e72-492a9de15822",
   "metadata": {},
   "source": [
    "### 1.1.2 Create `data/GSE66868.ChIP.dict.yaml`\n",
    "\n",
    "```\n",
    "SRR1914881:\n",
    "  control: SRR1914878\n",
    "SRR1914882:\n",
    "  control: SRR1914879\n",
    "SRR1914883:\n",
    "  control: SRR1914880\n",
    "```\n",
    "\n",
    "### 1.1.3 Run [snakePipes](https://snakepipes.readthedocs.io/en/latest/) DNA-mapping and ChIP-seq pipeline\n",
    "\n",
    "- Configure snakePipes according to the documentation provided on its website.\n",
    "- Download [mm9/GRCm37_gencode_release1](https://zenodo.org/record/4478284) premade index and [set up accordingly](https://snakepipes.readthedocs.io/en/latest/content/setting_up.html#download-premade-indices)\n",
    "- Create a python script to convert chromosome names\n",
    "\n",
    "```python\n",
    "import pandas as pd\n",
    "import numpy as np\n",
    "\n",
    "df = pd.read_csv(\"mm9-blacklist.bed\", sep=\"\\t\", header=None)\n",
    "mm9_convert = pd.read_csv(\"https://raw.githubusercontent.com/dpryan79/ChromosomeMappings/master/GRCm37_ensembl2UCSC.txt\", sep=\"\\t\", header=None, index_col=1)[0].to_dict()\n",
    "\n",
    "df[0] = df[0].apply(lambda x: mm9_convert.get(x, np.nan))\n",
    "df.dropna().to_csv(f\"mm9-blacklist-converted.bed\", sep=\"\\t\", header=None, index=None)\n",
    "```\n",
    "\n",
    "- Execute the shell script to download blacklist regions\n",
    "\n",
    "```bash\n",
    "wget https://github.com/Boyle-Lab/Blacklist/raw/master/lists/Blacklist_v1/mm9-blacklist.bed.gz\n",
    "gzip -d mm9-blacklist.bed.gz\n",
    "python blacklist_coordinates.py\n",
    "```\n",
    "\n",
    "- Modify the `GRCm37_gencode_release1.yaml` for the following values\n",
    "\n",
    "```yaml\n",
    "blacklist_bed: 'mm9-blacklist-converted.bed' # use absolute path which should belong to the directory of extracted index archive\n",
    "ignoreForNormalization: 'NT_166325 MT NT_166464 NT_166452 NT_166480 NT_166448 NT_166458 NT_166443 NT_166466 NT_166476 NT_166479 NT_166478 NT_166474 NT_166471 NT_166445 NT_166465 NT_166457 NT_166470 NT_166454 NT_166472 NT_166449 NT_166481 NT_166337 NT_166459 NT_166456 NT_166473 NT_166461 NT_166475 NT_166462 NT_166444 NT_166453 NT_166446 NT_166469 NT_072868 NT_166335 NT_166467 NT_166283 NT_166338 NT_166340 NT_166442 NT_166334 NT_166286 NT_166451 NT_166336 NT_166339 NT_166290 NT_053651 NT_166450 NT_166447 NT_166468 NT_166460 NT_166477 NT_166455 NT_166291 NT_166463 NT_166433 NT_166402 NT_166327 NT_166308 NT_166309 NT_109319 NT_166282 NT_166314 NT_166303 NT_112000 NT_110857 NT_166280 NT_166375 NT_166311 NT_166307 NT_166310 NT_166323 NT_166437 NT_166374 NT_166364 NT_166439 NT_166328 NT_166438 NT_166389 NT_162750 NT_166436 NT_166372 NT_166440 NT_166326 NT_166342 NT_166333 NT_166435 NT_166434 NT_166341 NT_166376 NT_166387 NT_166281 NT_166313 NT_166380 NT_166360 NT_166441 NT_166359 NT_166386 NT_166356 NT_166357 NT_166423 NT_166384 NT_161879 NT_161928 NT_166388 NT_161919 NT_166381 NT_166367 NT_166392 NT_166406 NT_166365 NT_166379 NT_166358 NT_161913 NT_166378 NT_166382 NT_161926 NT_166345 NT_166385 NT_165789 NT_166368 NT_166405 NT_166390 NT_166373 NT_166361 NT_166348 NT_166369 NT_161898 NT_166417 NT_166410 NT_166383 NT_166362 NT_165754 NT_166366 NT_166363 NT_161868 NT_166407 NT_165793 NT_166352 NT_161925 NT_166412 NT_165792 NT_161924 NT_166422 NT_165795 NT_166354 NT_166350 NT_165796 NT_161904 NT_166370 NT_165798 NT_165791 NT_161885 NT_166424 NT_166346 NT_165794 NT_166377 NT_166418 NT_161877 NT_166351 NT_166408 NT_166349 NT_161906 NT_166391 NT_161892 NT_166415 NT_165790 NT_166420 NT_166353 NT_166344 NT_166371 NT_161895 NT_166404 NT_166413 NT_166419 NT_161916 NT_166347 NT_161875 NT_161911 NT_161897 NT_161866 NT_166409 NT_161872 NT_166403 NT_161902 NT_166414 NT_166416 NT_166421 NT_161923 NT_161937 Y X'\n",
    "```\n",
    "\n",
    "> Execute in command line\n",
    "\n",
    "```bash\n",
    "$ cd data\n",
    "\n",
    "$ DNA-mapping -i GSE66868 -o GSE66868_DNA_mapping -m mapping --local -j 24 --reads '_1' '_2' GRCm37_gencode_release1\n",
    "\n",
    "$ cd GSE66868_DNA_mapping\n",
    "\n",
    "$ ChIP-seq -d . --singleEnd --windowSize 1000 --bwBinSize 1000 --fragmentLength 150 --local --snakemakeOptions \"-p -j 64\" --peakCaller MACS2 --peakCallerOptions \"-g mm -m 1 30 -p 0.2 --call-summits --keep-dup all\" --bigWigType log2ratio GRCm37_gencode_release1 ../GSE66868.ChIP.dict.yaml\n",
    "```"
   ]
  },
  {
   "cell_type": "markdown",
   "id": "0268b602-8d1a-4be3-9aa0-d664755ab425",
   "metadata": {},
   "source": [
    "## 1.2 Gabel et al. (2015) Visual cortex ChIPseq\n",
    "\n",
    "> [GSE Accession: GSE67293](https://www.ncbi.nlm.nih.gov/geo/query/acc.cgi?acc=GSE67293)"
   ]
  },
  {
   "cell_type": "code",
   "execution_count": 6,
   "id": "8ce7926c-8540-4492-8d0a-f39583965a32",
   "metadata": {},
   "outputs": [],
   "source": [
    "# Execute in python\n",
    "\n",
    "list_of_gsms = [f\"GSM16439{n}\" for n in range(34, 38)]\n",
    "with open(\"data/GSE67293/gsms.txt\", \"w\") as wH:\n",
    "    for gsm in list_of_gsms:\n",
    "        print(gsm, file=wH)"
   ]
  },
  {
   "cell_type": "markdown",
   "id": "0d28adde-4696-4f26-8212-f945fb197792",
   "metadata": {
    "tags": []
   },
   "source": [
    "### 1.2.1 Download RAW fastq\n",
    "\n",
    "> Execute in command line\n",
    "\n",
    "```bash\n",
    "$ cd data/GSE67293\n",
    "\n",
    "$ cat gsms.txt | parallel -j 1 -u \"ffq --ftp {} | jq -r '.[] | .url'\" > ftp_links.txt\n",
    "\n",
    "$ cat ftp_links.txt | parallel -j 1 -u 'curl -O {}'\n",
    "```"
   ]
  },
  {
   "cell_type": "code",
   "execution_count": 7,
   "id": "9ef6d318-f8c2-46fe-bbde-dac46e72fa42",
   "metadata": {},
   "outputs": [],
   "source": [
    "# Execute in python\n",
    "\n",
    "import glob\n",
    "import os\n",
    "gabel_chip_fastqs = glob.glob(\"data/GSE67293/*.fastq.gz\")\n",
    "for fastq in gabel_chip_fastqs:\n",
    "    os.rename(fastq, fastq.replace(\".fastq.gz\", \"_1.fastq.gz\"))"
   ]
  },
  {
   "cell_type": "markdown",
   "id": "6dbca80c-bdad-4531-9bc5-b3b6ac95653d",
   "metadata": {},
   "source": [
    "### 1.2.2 Create `data/GSE67293.ChIP.dict.yaml`\n",
    "\n",
    "```\n",
    "chip_dict:\n",
    "    SRR1930028:\n",
    "        control: SRR1930029\n",
    "    SRR1930030:\n",
    "        control: SRR1930031\n",
    "```\n",
    "\n",
    "### 1.2.3 Run [snakePipes](https://snakepipes.readthedocs.io/en/latest/) DNA-mapping and ChIP-seq pipeline\n",
    "\n",
    "- Configure snakePipes according to the documentation provided on its website.\n",
    "- Download [mm9/GRCm37_gencode_release1](https://zenodo.org/record/4478284) premade index and [set up accordingly](https://snakepipes.readthedocs.io/en/latest/content/setting_up.html#download-premade-indices)\n",
    "\n",
    "> Execute in command line\n",
    "\n",
    "```bash\n",
    "$ cd data\n",
    "\n",
    "$ DNA-mapping -i GSE67293 -o GSE67293_DNA_mapping -m mapping --local --snakemakeOptions \"-p -j 64\" --reads '_1' '_2' GRCm37_gencode_release1\n",
    "\n",
    "$ cd GSE67293_DNA_mapping \n",
    "\n",
    "$ ChIP-seq -d . --singleEnd --windowSize 1000 --bwBinSize 1000 --fragmentLength 150 --local -j 24 --peakCaller MACS2 --peakCallerOptions \"-g mm -m 1 30 -p 0.2 --call-summits --keep-dup all\" --bigWigType log2ratio GRCm37_gencode_release1 ../GSE67293.ChIP.dict.yaml\n",
    "```"
   ]
  },
  {
   "cell_type": "markdown",
   "id": "ea3ef6fd-ae90-4923-b688-7b273cb67d2e",
   "metadata": {},
   "source": [
    "## 1.3 Boxer et al. (2020) Forebrain ChIPseq\n",
    "\n",
    "> [GSE Accession: GSE139509](https://www.ncbi.nlm.nih.gov/geo/query/acc.cgi?acc=GSE139509)"
   ]
  },
  {
   "cell_type": "code",
   "execution_count": 8,
   "id": "c549bd92-7d8c-4601-82f5-524532ce6db8",
   "metadata": {},
   "outputs": [],
   "source": [
    "list_of_gsms = [f\"GSM41426{n}\" for n in range(62, 70)]\n",
    "with open(\"data/GSE139509/gsms.txt\", \"w\") as wH:\n",
    "    for gsm in list_of_gsms:\n",
    "        print(gsm, file=wH)"
   ]
  },
  {
   "cell_type": "markdown",
   "id": "5fc57b3b-7a4c-4a42-9406-f6b9092c8228",
   "metadata": {
    "tags": []
   },
   "source": [
    "### 1.3.1 Download RAW fastq\n",
    "\n",
    "> Execute in command line\n",
    "\n",
    "```bash\n",
    "$ cd data/GSE139509\n",
    "\n",
    "$ cat gsms.txt | parallel -j 1 -u \"ffq --ftp {} | jq -r '.[] | .url'\" > ftp_links.txt\n",
    "\n",
    "$ cat ftp_links.txt | parallel -j 1 -u 'curl -O {}'\n",
    "```"
   ]
  },
  {
   "cell_type": "code",
   "execution_count": 9,
   "id": "8143ff73-b603-41b3-ac41-5599d0e863c6",
   "metadata": {},
   "outputs": [],
   "source": [
    "# Execute in python\n",
    "\n",
    "import glob\n",
    "import os\n",
    "boxer_chip_fastqs = glob.glob(\"data/GSE139509/*.fastq.gz\")\n",
    "for fastq in boxer_chip_fastqs:\n",
    "    os.rename(fastq, fastq.replace(\".fastq.gz\", \"_1.fastq.gz\"))"
   ]
  },
  {
   "cell_type": "markdown",
   "id": "b5234b4d-4cb2-40db-8b0d-22d407c0abaa",
   "metadata": {},
   "source": [
    "### 1.3.2 Create `data/GSE139509.ChIP.dict.yaml`\n",
    "\n",
    "```\n",
    "SRR10356997:\n",
    "  control: SRR10356999\n",
    "SRR10356998:\n",
    "  control: SRR10357000\n",
    "SRR10357001:\n",
    "  control: SRR10357003\n",
    "SRR10357002:\n",
    "  control: SRR10357004\n",
    "```\n",
    "\n",
    "### 1.3.3 Run [snakePipes](https://snakepipes.readthedocs.io/en/latest/) DNA-mapping and ChIP-seq pipeline\n",
    "\n",
    "- Configure snakePipes according to the documentation provided on its website.\n",
    "- Because Boxer et al. (2020) used mm10 assembly for their bisulfite sequencing, in order to keep assemblies consistent between multiomic data sets, we change the assembly for RNAseq processing\n",
    "- Download [mm10/GRCm38_gencode_release19](https://zenodo.org/record/4468065) premade index and [set up accordingly](https://snakepipes.readthedocs.io/en/latest/content/setting_up.html#download-premade-indices)\n",
    "- Execute the shell script to download blacklist regions\n",
    "\n",
    "```bash\n",
    "wget https://github.com/Boyle-Lab/Blacklist/raw/master/lists/mm10-blacklist.v2.bed.gz\n",
    "gzip -d mm10-blacklist.v2.bed.gz\n",
    "```\n",
    "\n",
    "- Modify the `GRCm37_gencode_release1.yaml` for the following values\n",
    "\n",
    "```yaml\n",
    "blacklist_bed: 'mm10-blacklist.v2.bed'\n",
    "ignoreForNormalization: 'chrX chrY chrM GL456210.1 GL456211.1 GL456212.1 GL456213.1 GL456216.1 GL456219.1 GL456221.1 GL456233.1 GL456239.1 GL456350.1 GL456354.1 GL456359.1 GL456360.1 GL456366.1 GL456367.1 GL456368.1 GL456370.1 GL456372.1 GL456378.1 GL456379.1 GL456381.1 GL456382.1 GL456383.1 GL456385.1 GL456387.1 GL456389.1 GL456390.1 GL456392.1 GL456393.1 GL456394.1 GL456396.1 JH584292.1 JH584293.1 JH584294.1 JH584295.1 JH584296.1 JH584297.1 JH584298.1 JH584299.1 JH584300.1 JH584301.1 JH584302.1 JH584303.1 JH584304.1'\n",
    "```\n",
    "\n",
    "> Execute in command line\n",
    "\n",
    "```bash\n",
    "$ cd data\n",
    "\n",
    "$ DNA-mapping -i GSE139509 -o GSE139509_DNA_mapping -m mapping --local --snakemakeOptions \"-p -j 64\" --reads '_1' '_2' GRCm38_gencode_release19\n",
    "\n",
    "$ cd GSE139509_DNA_mapping \n",
    "\n",
    "$ ChIP-seq -d . --singleEnd --windowSize 1000 --bwBinSize 1000 --fragmentLength 150 --local -j 24 --peakCaller MACS2 --peakCallerOptions \"-g mm -m 1 30 -p 0.2 --call-summits --keep-dup all\" --bigWigType log2ratio GRCm38_gencode_release19 ../GSE139509.ChIP.dict.yaml\n",
    "```"
   ]
  }
 ],
 "metadata": {
  "kernelspec": {
   "display_name": "Python 3 (ipykernel)",
   "language": "python",
   "name": "python3"
  },
  "language_info": {
   "codemirror_mode": {
    "name": "ipython",
    "version": 3
   },
   "file_extension": ".py",
   "mimetype": "text/x-python",
   "name": "python",
   "nbconvert_exporter": "python",
   "pygments_lexer": "ipython3",
   "version": "3.10.5"
  }
 },
 "nbformat": 4,
 "nbformat_minor": 5
}
