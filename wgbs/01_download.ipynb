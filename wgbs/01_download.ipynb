{
 "cells": [
  {
   "cell_type": "markdown",
   "id": "04585ec7-fef7-437c-ab27-4df84426c09b",
   "metadata": {},
   "source": [
    "# 1. Download processed WGBS-seq data"
   ]
  },
  {
   "cell_type": "markdown",
   "id": "195befe5-b262-4a5d-a686-66c0963ad3e5",
   "metadata": {},
   "source": [
    "## 1.1 Lister et al. (2013) Bisulfite sequencing of frontal cortex\n",
    "> [GSE Accession: GSE47966](https://www.ncbi.nlm.nih.gov/geo/query/acc.cgi?acc=GSE47966)"
   ]
  },
  {
   "cell_type": "code",
   "execution_count": 1,
   "id": "af244374-8785-4649-810a-8e37e8b49a7c",
   "metadata": {},
   "outputs": [],
   "source": [
    "import GEOparse\n",
    "from ftplib import FTP\n",
    "import gzip\n",
    "import pandas as pd\n",
    "from tqdm.auto import tqdm\n",
    "\n",
    "GEOparse.logger.set_verbosity('ERROR')"
   ]
  },
  {
   "cell_type": "code",
   "execution_count": 2,
   "id": "2da995a2-b901-4ebc-b626-ebcb7701135e",
   "metadata": {},
   "outputs": [],
   "source": [
    "def get_ftp_file_links(GSE, sample):\n",
    "    \"\"\"Create a list of supplementary FTP file links associated\n",
    "    with a GSE sample\n",
    "    \n",
    "    Args:\n",
    "      GSE (str): GSE accession number\n",
    "      sample (str): Sample title\n",
    "      \n",
    "    Returns:\n",
    "      ftp_file_links (list): list containing the file names\n",
    "      cwd (str): directory path where the files are present\n",
    "    \"\"\"\n",
    "    \n",
    "    ftp_file_names = []\n",
    "    cwd = \"\"\n",
    "    gse = GEOparse.get_GEO(GSE)\n",
    "    \n",
    "    gse_pheno = gse.phenotype_data\n",
    "    for i, j in gse_pheno[gse_pheno[\"title\"] == sample].items():\n",
    "        if i.startswith(\"supplementary\"):\n",
    "            if isinstance(j.values[0], str):\n",
    "                cwd = j.values[0].split(\".gov/\")[-1].rpartition(\"/\")[0]\n",
    "                ftp_file_names.append(j.values[0].split(\"/\")[-1])\n",
    "    \n",
    "    return ftp_file_names, cwd  "
   ]
  },
  {
   "cell_type": "markdown",
   "id": "ee17d948-d3f0-4446-8da2-ce54f70b3c9f",
   "metadata": {},
   "source": [
    "### 1.1.1 Frontal Cortex whole"
   ]
  },
  {
   "cell_type": "code",
   "execution_count": 3,
   "id": "481f6581-bf1f-41c7-90ec-4423e7653ca8",
   "metadata": {},
   "outputs": [],
   "source": [
    "ftp_file_names, cwd = get_ftp_file_links(\"GSE47966\", \"MethylC-Seq_mm_fc_6wk\")"
   ]
  },
  {
   "cell_type": "code",
   "execution_count": 4,
   "id": "740b89e7-4c22-4a61-b398-c9bbf54b7e5c",
   "metadata": {},
   "outputs": [
    {
     "data": {
      "application/vnd.jupyter.widget-view+json": {
       "model_id": "",
       "version_major": 2,
       "version_minor": 0
      },
      "text/plain": [
       "  0%|          | 0/22 [00:00<?, ?it/s]"
      ]
     },
     "metadata": {},
     "output_type": "display_data"
    },
    {
     "data": {
      "text/plain": [
       "'221 Goodbye.'"
      ]
     },
     "execution_count": 4,
     "metadata": {},
     "output_type": "execute_result"
    }
   ],
   "source": [
    "ftp = FTP('ftp.ncbi.nlm.nih.gov')\n",
    "ftp.login()\n",
    "ftp.cwd(cwd)\n",
    "with open(f'data/GSE47966_MethylC-Seq_mm_fc_6wk.txt.gz', 'wb') as fp:\n",
    "    for file_name in tqdm(ftp_file_names, leave=False):\n",
    "        if not 'chrL' in file_name:\n",
    "            ftp.retrbinary(f'RETR {file_name}', fp.write)\n",
    "ftp.quit()"
   ]
  },
  {
   "cell_type": "markdown",
   "id": "b1db2d18-8c32-4fae-a712-da22f90d394a",
   "metadata": {
    "tags": []
   },
   "source": [
    "### 1.1.2 Frontal Cortex (sortex NeuN+ve nuclei)"
   ]
  },
  {
   "cell_type": "code",
   "execution_count": null,
   "id": "e10c7110-c282-402b-8bc9-35b141a7aa54",
   "metadata": {},
   "outputs": [],
   "source": [
    "ftp_file_names, cwd = get_ftp_file_links(\"GSE47966\", \"MethylC-Seq_mm_fc_male_7wk_neun_pos\")"
   ]
  },
  {
   "cell_type": "code",
   "execution_count": null,
   "id": "1a1ca6bc-d05d-4a7a-859b-34c7a0093f03",
   "metadata": {},
   "outputs": [],
   "source": [
    "ftp = FTP('ftp.ncbi.nlm.nih.gov')\n",
    "ftp.login()\n",
    "ftp.cwd(cwd)\n",
    "with open(f'data/GSE47966_MethylC-Seq_mm_fc_male_7wk_neun_pos.txt.gz', 'wb') as fp:\n",
    "    for file_name in tqdm(ftp_file_names, leave=False):\n",
    "        if not 'chrL' in file_name:\n",
    "            ftp.retrbinary(f'RETR {file_name}', fp.write)\n",
    "ftp.quit()"
   ]
  },
  {
   "cell_type": "markdown",
   "id": "ab8568f6-1035-433f-8544-98529e1493c2",
   "metadata": {},
   "source": [
    "### 1.1.3 Frontal Cortex (sortex NeuN-ve nuclei)"
   ]
  },
  {
   "cell_type": "code",
   "execution_count": null,
   "id": "f77f3a5b-4e27-4c1b-953e-3ffea540a909",
   "metadata": {},
   "outputs": [],
   "source": [
    "ftp_file_names, cwd = get_ftp_file_links(\"GSE47966\", \"MethylC-Seq_mm_fc_male_7wk_neun_neg\")"
   ]
  },
  {
   "cell_type": "code",
   "execution_count": null,
   "id": "0df49333-2e7c-4e4d-b53a-3a2006b7f3ab",
   "metadata": {},
   "outputs": [],
   "source": [
    "ftp = FTP('ftp.ncbi.nlm.nih.gov')\n",
    "ftp.login()\n",
    "ftp.cwd(cwd)\n",
    "with open(f'data/GSE47966_MethylC-Seq_mm_fc_male_7wk_neun_neg.txt.gz', 'wb') as fp:\n",
    "    for file_name in tqdm(ftp_file_names, leave=False):\n",
    "        if not 'chrL' in file_name:\n",
    "            ftp.retrbinary(f'RETR {file_name}', fp.write)\n",
    "ftp.quit()"
   ]
  },
  {
   "cell_type": "markdown",
   "id": "86bb704b-6860-4475-bda9-149d501b7e36",
   "metadata": {},
   "source": [
    "## 1.2 Lagger et al. (2017) Bisulfite sequencing of hypothalamus\n",
    "> [GSE Accession: GSE84533](https://www.ncbi.nlm.nih.gov/geo/query/acc.cgi?acc=GSE84533)"
   ]
  },
  {
   "cell_type": "code",
   "execution_count": null,
   "id": "771ec5a9-6ace-4fdc-b088-c73555354582",
   "metadata": {},
   "outputs": [],
   "source": [
    "gse = GEOparse.get_GEO(\"GSE84533\")\n",
    "ftp = FTP('ftp.ncbi.nlm.nih.gov')\n",
    "ftp.login()\n",
    "for n, (accession, _file_name) in tqdm(enumerate(gse.phenotype_data[[\"geo_accession\", \"supplementary_file_1\"]].values, start=1), leave=False):\n",
    "    file_name = _file_name.split(\"ftp.ncbi.nlm.nih.gov/\")[-1]\n",
    "    with open(f\"data/GSE84533_{accession}_hypothalamus_{n}.txt.gz\", \"wb\") as fp:\n",
    "        ftp.retrbinary(f'RETR {file_name}', fp.write)\n",
    "ftp.quit()"
   ]
  },
  {
   "cell_type": "markdown",
   "id": "371187df-e86c-4b1a-ab44-2ea793299bb5",
   "metadata": {},
   "source": [
    "## 1.3 Boxer et al. (2020) Oxidative Bisulfite sequencing of forebrain\n",
    "\n",
    "> [GSE Accession: GSE128172](https://www.ncbi.nlm.nih.gov/geo/query/acc.cgi?acc=GSE128172)"
   ]
  },
  {
   "cell_type": "code",
   "execution_count": null,
   "id": "d68ad71c-4c99-4033-97d9-1a6dc51224a8",
   "metadata": {},
   "outputs": [],
   "source": [
    "with open(f'data/GSE128172_MeCP2_WT_OX_rep123.txt.gz', 'wb') as fp:\n",
    "    \n",
    "    ftp = FTP('ftp.ncbi.nlm.nih.gov')\n",
    "    ftp.login()\n",
    "    rep1_ftp_file_names, cwd = get_ftp_file_links(\"GSE128172\", \"MeCP2_WT_OX_rep1\")\n",
    "    ftp.cwd(cwd)\n",
    "    for file_name in tqdm(rep1_ftp_file_names, leave=False):\n",
    "        ftp.retrbinary(f'RETR {file_name}', fp.write)\n",
    "    ftp.quit()\n",
    "    \n",
    "    ftp = FTP('ftp.ncbi.nlm.nih.gov')\n",
    "    ftp.login()\n",
    "    rep2_ftp_file_names, cwd = get_ftp_file_links(\"GSE128172\", \"MeCP2_WT_OX_rep2\")\n",
    "    ftp.cwd(cwd)\n",
    "    for file_name in tqdm(rep2_ftp_file_names, leave=False):\n",
    "        ftp.retrbinary(f'RETR {file_name}', fp.write)\n",
    "    ftp.quit()\n",
    "    \n",
    "    ftp = FTP('ftp.ncbi.nlm.nih.gov')\n",
    "    ftp.login()\n",
    "    rep3_ftp_file_names, cwd = get_ftp_file_links(\"GSE128172\", \"MeCP2_WT_OX_rep3\")\n",
    "    ftp.cwd(cwd)\n",
    "    for file_name in tqdm(rep3_ftp_file_names, leave=False):\n",
    "        ftp.retrbinary(f'RETR {file_name}', fp.write)\n",
    "    ftp.quit()"
   ]
  }
 ],
 "metadata": {
  "kernelspec": {
   "display_name": "Python 3 (ipykernel)",
   "language": "python",
   "name": "python3"
  },
  "language_info": {
   "codemirror_mode": {
    "name": "ipython",
    "version": 3
   },
   "file_extension": ".py",
   "mimetype": "text/x-python",
   "name": "python",
   "nbconvert_exporter": "python",
   "pygments_lexer": "ipython3",
   "version": "3.10.5"
  }
 },
 "nbformat": 4,
 "nbformat_minor": 5
}
