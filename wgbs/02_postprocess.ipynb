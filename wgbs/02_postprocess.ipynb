{
 "cells": [
  {
   "cell_type": "markdown",
   "id": "a4cf2ca8-2086-45ed-b497-3961ac180352",
   "metadata": {},
   "source": [
    "# 2 Postprocessing of downloaded files\n",
    "\n",
    "Because Lister et al. (2013) and Boxer et al. (2020) used bsmap to generate bisulfite sequencing reports, we need further post-processing to generate bedGraph files. `scripts` directory contains python scripts necessary to generate bedGraph files for different cytosine contexts and coverage thresholds. In order to automate generation of multiple files across all the samples, [snakemake](https://snakemake.readthedocs.io/en/stable/) workflow management is used. Please refer to `Snakefile` for further information about the command line arguments. Before generating bedGraph tracks, copy the repeat loci:\n",
    "\n",
    "```bash\n",
    "$ snakemake loci -p -j 1\n",
    "```\n",
    "\n",
    "## 2.1 Lister et al. (2013) post-processing \n",
    "\n",
    "```bash\n",
    "$ snakemake lister -p -j 6\n",
    "\n",
    "$ cd GSE47966\n",
    "\n",
    "$ snakemake repeats average -p -j 1\n",
    "```\n",
    "\n",
    "## 2.2 Boxer et al. (2020) post-processing\n",
    "\n",
    "```bash\n",
    "$ snakemake boxer -p -j 6\n",
    "\n",
    "$ cd GSE128172\n",
    "\n",
    "$ snakemake repeats average -p -j 1\n",
    "```\n",
    "\n",
    "## 2.3 Lagger et al. (2015) post-processing\n",
    "\n",
    "```bash\n",
    "$ snakemake lagger -p -j 6\n",
    "\n",
    "$ cd GSE84533\n",
    "\n",
    "$ snakemake repeats average -p -j 1\n",
    "```"
   ]
  }
 ],
 "metadata": {
  "kernelspec": {
   "display_name": "Python 3 (ipykernel)",
   "language": "python",
   "name": "python3"
  },
  "language_info": {
   "codemirror_mode": {
    "name": "ipython",
    "version": 3
   },
   "file_extension": ".py",
   "mimetype": "text/x-python",
   "name": "python",
   "nbconvert_exporter": "python",
   "pygments_lexer": "ipython3",
   "version": "3.10.5"
  }
 },
 "nbformat": 4,
 "nbformat_minor": 5
}
